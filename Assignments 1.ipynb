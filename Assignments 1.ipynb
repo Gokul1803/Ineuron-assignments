{
 "cells": [
  {
   "cell_type": "raw",
   "id": "b889ba76",
   "metadata": {},
   "source": [
    "1. In the below elements which of them are values or an expression? eg:- values can be\n",
    "integer or string and expressions will be mathematical operators.\n",
    "*\n",
    "hello\n",
    "-87.8\n",
    "-\n",
    "/\n",
    "+\n",
    "6"
   ]
  },
  {
   "cell_type": "raw",
   "id": "3d2e8f3c",
   "metadata": {},
   "source": [
    "values- hello,-87.8,6 ; Expression - *-/+"
   ]
  },
  {
   "cell_type": "raw",
   "id": "f841e3df",
   "metadata": {},
   "source": [
    "2. What is the difference between string and variable?\n",
    "String- its a data type in python which can be sentence or word\n",
    "Variable- Its a container that holds the values like integer,string,bolean"
   ]
  },
  {
   "cell_type": "raw",
   "id": "6a8cfbad",
   "metadata": {},
   "source": [
    "3. Describe three different data types.\n",
    "String,Integer,Boolean"
   ]
  },
  {
   "cell_type": "raw",
   "id": "4ce721f8",
   "metadata": {},
   "source": [
    "4. What is an expression made up of? What do all expressions do?\n",
    "-> Expression is a mathematical operators like +,-,*,/ which will operate on variables"
   ]
  },
  {
   "cell_type": "raw",
   "id": "106c40b8",
   "metadata": {},
   "source": [
    "5. This assignment statements, like spam = 10. What is the difference between an\n",
    "expression and a statement?\n",
    "--> Statement is nothhing but an variable is assigned with values like string,integer and \n",
    "Expression is mathematical operations performed on the variable."
   ]
  },
  {
   "cell_type": "raw",
   "id": "429e7685",
   "metadata": {},
   "source": [
    "6. After running the following code, what does the variable bacon contain?\n",
    "bacon = 22\n",
    "bacon + 1\n",
    "\n",
    "ans: 23"
   ]
  },
  {
   "cell_type": "raw",
   "id": "bad465c6",
   "metadata": {},
   "source": [
    "7. What should the values of the following two terms be?\n",
    "ans: 'spamspamspam'\n",
    "    "
   ]
  },
  {
   "cell_type": "raw",
   "id": "47874ccd",
   "metadata": {},
   "source": [
    "8. Why is eggs a valid variable name while 100 is invalid?\n",
    "ans: 100 is invalid because we can't create a variable with literal\n",
    "    "
   ]
  },
  {
   "cell_type": "raw",
   "id": "b6a9d152",
   "metadata": {},
   "source": [
    "9. What three functions can be used to get the integer, floating-point number, or string\n",
    "version of a value?\n",
    "ans: int(),float(),str()"
   ]
  },
  {
   "cell_type": "raw",
   "id": "6b9a5b89",
   "metadata": {},
   "source": [
    "10. Why does this expression cause an error? How can you fix it?\n",
    "ans: Because of data type mismatch while concat and to fix we should convert 99to string using str(99)."
   ]
  }
 ],
 "metadata": {
  "kernelspec": {
   "display_name": "Python 3 (ipykernel)",
   "language": "python",
   "name": "python3"
  },
  "language_info": {
   "codemirror_mode": {
    "name": "ipython",
    "version": 3
   },
   "file_extension": ".py",
   "mimetype": "text/x-python",
   "name": "python",
   "nbconvert_exporter": "python",
   "pygments_lexer": "ipython3",
   "version": "3.9.12"
  }
 },
 "nbformat": 4,
 "nbformat_minor": 5
}
